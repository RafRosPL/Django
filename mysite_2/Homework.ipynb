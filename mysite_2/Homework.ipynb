{
 "cells": [
  {
   "cell_type": "code",
   "execution_count": 1,
   "id": "0ca486af",
   "metadata": {},
   "outputs": [],
   "source": [
    "import os\n",
    "os.environ[\"DJANGO_ALLOW_ASYNC_UNSAFE\"]=\"true\""
   ]
  },
  {
   "cell_type": "code",
   "execution_count": 2,
   "id": "1cb76043",
   "metadata": {},
   "outputs": [],
   "source": [
    "from movies.models import Actor, Country, Movie, Oscar"
   ]
  },
  {
   "cell_type": "code",
   "execution_count": 3,
   "id": "5ccb245c",
   "metadata": {
    "scrolled": true
   },
   "outputs": [
    {
     "data": {
      "text/plain": [
       "<Actor: 3. John Smith - 45yrs - M>"
      ]
     },
     "execution_count": 3,
     "metadata": {},
     "output_type": "execute_result"
    }
   ],
   "source": [
    "Actor.objects.create(name='John', last_name='Smith', age=45, gender='M')"
   ]
  },
  {
   "cell_type": "code",
   "execution_count": 5,
   "id": "a29f4083",
   "metadata": {},
   "outputs": [
    {
     "data": {
      "text/plain": [
       "<Actor: 4. Jane Smith - 45yrs - F>"
      ]
     },
     "execution_count": 5,
     "metadata": {},
     "output_type": "execute_result"
    }
   ],
   "source": [
    "Actor.objects.create(name='Jane', last_name='Smith', age=35, gender='F')"
   ]
  },
  {
   "cell_type": "code",
   "execution_count": 3,
   "id": "650c3c61",
   "metadata": {},
   "outputs": [
    {
     "data": {
      "text/plain": [
       "<QuerySet [<Actor: 1. John Smith - 45yrs - M>, <Actor: 2. Jane Smith - 35yrs - F>]>"
      ]
     },
     "execution_count": 3,
     "metadata": {},
     "output_type": "execute_result"
    }
   ],
   "source": [
    "Actor.objects.all()"
   ]
  },
  {
   "cell_type": "code",
   "execution_count": 4,
   "id": "921231ac",
   "metadata": {},
   "outputs": [],
   "source": [
    "a1 = Actor.objects.get(id=1)\n",
    "a2 = Actor.objects.get(id=2)"
   ]
  },
  {
   "cell_type": "code",
   "execution_count": 7,
   "id": "7ebebeae",
   "metadata": {},
   "outputs": [
    {
     "data": {
      "text/plain": [
       "<Country: FRA-France>"
      ]
     },
     "execution_count": 7,
     "metadata": {},
     "output_type": "execute_result"
    }
   ],
   "source": [
    "Country.objects.create(name='Poland', iso_code='POL')\n",
    "Country.objects.create(name='Unated States', iso_code='USA')\n",
    "Country.objects.create(name='France', iso_code='FRA')"
   ]
  },
  {
   "cell_type": "code",
   "execution_count": 8,
   "id": "35897262",
   "metadata": {},
   "outputs": [
    {
     "data": {
      "text/plain": [
       "<QuerySet [<Country: POL-Poland>, <Country: USA-Unated States>, <Country: FRA-France>]>"
      ]
     },
     "execution_count": 8,
     "metadata": {},
     "output_type": "execute_result"
    }
   ],
   "source": [
    "Country.objects.all()"
   ]
  },
  {
   "cell_type": "code",
   "execution_count": 9,
   "id": "c03b0f12",
   "metadata": {},
   "outputs": [
    {
     "name": "stdout",
     "output_type": "stream",
     "text": [
      "The Shawshank Redemption has got 1 oscar(s).\n",
      "The Godfather has got 0 oscar(s).\n",
      "The Dark Knight has got 1 oscar(s).\n",
      "12 Angry Men has got 3 oscar(s).\n",
      "Pulp Fiction has got 0 oscar(s).\n",
      "Killer has got 1 oscar(s).\n",
      "Chlopaki nie placza has got 0 oscar(s).\n",
      "La soupe aux choux has got 0 oscar(s).\n"
     ]
    }
   ],
   "source": [
    "for m in Movie.objects.all():\n",
    "    print(f'{m.title} has got {m.oscars.count()} oscar(s).')\n"
   ]
  },
  {
   "cell_type": "code",
   "execution_count": 11,
   "id": "2c606b31",
   "metadata": {
    "scrolled": true
   },
   "outputs": [
    {
     "name": "stdout",
     "output_type": "stream",
     "text": [
      "John Smith has got 2 oscar(s).\n"
     ]
    }
   ],
   "source": [
    "for a in Actor.objects.filter(gender='M'):\n",
    "    print(f'{a.name} {a.last_name} has got {a.oscars.count()} oscar(s).')"
   ]
  },
  {
   "cell_type": "code",
   "execution_count": 12,
   "id": "ccd293d7",
   "metadata": {
    "scrolled": true
   },
   "outputs": [
    {
     "name": "stdout",
     "output_type": "stream",
     "text": [
      "Jane Smith has got 3 oscar(s).\n"
     ]
    }
   ],
   "source": [
    "for a in Actor.objects.filter(gender='F'):\n",
    "    print(f'{a.name} {a.last_name} has got {a.oscars.count()} oscar(s).')"
   ]
  },
  {
   "cell_type": "code",
   "execution_count": 46,
   "id": "ef7fca82",
   "metadata": {},
   "outputs": [
    {
     "name": "stdout",
     "output_type": "stream",
     "text": [
      "The Shawshank Redemption\n",
      "The Godfather\n",
      "The Dark Knight\n",
      "12 Angry Men\n",
      "Pulp Fiction\n"
     ]
    }
   ],
   "source": [
    "for m in Movie.objects.all():\n",
    "    if m.country.iso_code == 'USA':\n",
    "        print(m)"
   ]
  },
  {
   "cell_type": "code",
   "execution_count": 47,
   "id": "f2eebeff",
   "metadata": {
    "scrolled": true
   },
   "outputs": [
    {
     "data": {
      "text/plain": [
       "<QuerySet [<Movie: The Shawshank Redemption>, <Movie: The Godfather>, <Movie: The Dark Knight>, <Movie: 12 Angry Men>, <Movie: Pulp Fiction>]>"
      ]
     },
     "execution_count": 47,
     "metadata": {},
     "output_type": "execute_result"
    }
   ],
   "source": [
    "Movie.objects.filter(country__iso_code='USA')"
   ]
  },
  {
   "cell_type": "code",
   "execution_count": 48,
   "id": "41a9a3ba",
   "metadata": {
    "scrolled": true
   },
   "outputs": [
    {
     "data": {
      "text/plain": [
       "<QuerySet [<Movie: Killer>, <Movie: Chlopaki nie placza>, <Movie: La soupe aux choux>]>"
      ]
     },
     "execution_count": 48,
     "metadata": {},
     "output_type": "execute_result"
    }
   ],
   "source": [
    "Movie.objects.exclude(country__iso_code='USA')"
   ]
  },
  {
   "cell_type": "code",
   "execution_count": 50,
   "id": "e524f103",
   "metadata": {},
   "outputs": [
    {
     "data": {
      "text/plain": [
       "<QuerySet [<Actor: 1. John Smith - 45yrs - M>, <Actor: 2. Jane Smith - 35yrs - F>]>"
      ]
     },
     "execution_count": 50,
     "metadata": {},
     "output_type": "execute_result"
    }
   ],
   "source": [
    "Actor.objects.filter(age__gt=30)"
   ]
  },
  {
   "cell_type": "code",
   "execution_count": 52,
   "id": "a19f3afc",
   "metadata": {},
   "outputs": [
    {
     "data": {
      "text/plain": [
       "<QuerySet [<Actor: 2. Jane Smith - 35yrs - F>, <Actor: 1. John Smith - 45yrs - M>]>"
      ]
     },
     "execution_count": 52,
     "metadata": {},
     "output_type": "execute_result"
    }
   ],
   "source": [
    "Actor.objects.all().order_by('age')"
   ]
  },
  {
   "cell_type": "code",
   "execution_count": 103,
   "id": "3e3b8fd7",
   "metadata": {},
   "outputs": [
    {
     "data": {
      "text/plain": [
       "<QuerySet [<Oscar: 1990-Music>, <Oscar: 2000-Costumes>, <Oscar: 2015-Scenography>]>"
      ]
     },
     "execution_count": 103,
     "metadata": {},
     "output_type": "execute_result"
    }
   ],
   "source": [
    "m_all = Movie.objects.all()\n",
    "vars(m_all[0])\n",
    "m_all[3].oscars.all()\n",
    "\n",
    "\n"
   ]
  },
  {
   "cell_type": "code",
   "execution_count": 99,
   "id": "746b890a",
   "metadata": {},
   "outputs": [
    {
     "data": {
      "text/plain": [
       "5"
      ]
     },
     "execution_count": 99,
     "metadata": {},
     "output_type": "execute_result"
    }
   ],
   "source": [
    "a1 = Actor.objects.first()\n",
    "a1.movies.count()\n",
    "\n",
    "\n",
    "\n"
   ]
  },
  {
   "cell_type": "code",
   "execution_count": 119,
   "id": "d3bfd357",
   "metadata": {
    "scrolled": true
   },
   "outputs": [
    {
     "data": {
      "text/plain": [
       "<QuerySet [<Movie: The Shawshank Redemption>, <Movie: The Godfather>, <Movie: The Dark Knight>, <Movie: Killer>, <Movie: La soupe aux choux>]>"
      ]
     },
     "execution_count": 119,
     "metadata": {},
     "output_type": "execute_result"
    }
   ],
   "source": [
    "Movie.objects.filter(actor=1)"
   ]
  },
  {
   "cell_type": "code",
   "execution_count": 173,
   "id": "67cbe67a",
   "metadata": {
    "scrolled": true
   },
   "outputs": [
    {
     "data": {
      "text/plain": [
       "{'actor': 2, 'total': 3}"
      ]
     },
     "execution_count": 173,
     "metadata": {},
     "output_type": "execute_result"
    }
   ],
   "source": [
    "from django.db.models import Count\n",
    "Oscar.objects.filter(category = 'Best Actor').values('actor').annotate(total=Count('actor')).order_by('-total').first()"
   ]
  },
  {
   "cell_type": "code",
   "execution_count": 165,
   "id": "93d697dd",
   "metadata": {},
   "outputs": [
    {
     "data": {
      "text/plain": [
       "{'actor': 1, 'total': 5}"
      ]
     },
     "execution_count": 165,
     "metadata": {},
     "output_type": "execute_result"
    }
   ],
   "source": [
    "from django.db.models import Count\n",
    "Movie.objects.all().values('actor').annotate(total=Count('actor')).order_by('-total').first()"
   ]
  }
 ],
 "metadata": {
  "kernelspec": {
   "display_name": "Django Shell-Plus",
   "language": "python",
   "name": "django_extensions"
  },
  "language_info": {
   "codemirror_mode": {
    "name": "ipython",
    "version": 3
   },
   "file_extension": ".py",
   "mimetype": "text/x-python",
   "name": "python",
   "nbconvert_exporter": "python",
   "pygments_lexer": "ipython3",
   "version": "3.8.10"
  }
 },
 "nbformat": 4,
 "nbformat_minor": 5
}

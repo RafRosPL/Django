{
 "cells": [
  {
   "cell_type": "code",
   "execution_count": 1,
   "id": "ee8e349b",
   "metadata": {},
   "outputs": [],
   "source": [
    "import os\n",
    "os.environ[\"DJANGO_ALLOW_ASYNC_UNSAFE\"]=\"true\""
   ]
  },
  {
   "cell_type": "code",
   "execution_count": 2,
   "id": "06a7cea3",
   "metadata": {},
   "outputs": [],
   "source": [
    "from movies.models import Actor, Country, Movie, Oscar"
   ]
  },
  {
   "cell_type": "code",
   "execution_count": 3,
   "id": "72b49180",
   "metadata": {
    "scrolled": true
   },
   "outputs": [
    {
     "data": {
      "text/plain": [
       "<Actor: 3. John Smith - 45yrs - M>"
      ]
     },
     "execution_count": 3,
     "metadata": {},
     "output_type": "execute_result"
    }
   ],
   "source": [
    "Actor.objects.create(name='John', last_name='Smith', age=45, gender='M')"
   ]
  },
  {
   "cell_type": "code",
   "execution_count": 5,
   "id": "5a53762f",
   "metadata": {},
   "outputs": [
    {
     "data": {
      "text/plain": [
       "<Actor: 4. Jane Smith - 45yrs - F>"
      ]
     },
     "execution_count": 5,
     "metadata": {},
     "output_type": "execute_result"
    }
   ],
   "source": [
    "Actor.objects.create(name='Jane', last_name='Smith', age=35, gender='F')"
   ]
  },
  {
   "cell_type": "code",
   "execution_count": 3,
   "id": "18d261ef",
   "metadata": {},
   "outputs": [
    {
     "data": {
      "text/plain": [
       "<QuerySet [<Actor: 1. John Smith - 45yrs - M>, <Actor: 2. Jane Smith - 35yrs - F>]>"
      ]
     },
     "execution_count": 3,
     "metadata": {},
     "output_type": "execute_result"
    }
   ],
   "source": [
    "Actor.objects.all()"
   ]
  },
  {
   "cell_type": "code",
   "execution_count": 4,
   "id": "4fc052d0",
   "metadata": {},
   "outputs": [],
   "source": [
    "a1 = Actor.objects.get(id=1)\n",
    "a2 = Actor.objects.get(id=2)"
   ]
  },
  {
   "cell_type": "code",
   "execution_count": 7,
   "id": "a802b469",
   "metadata": {},
   "outputs": [
    {
     "data": {
      "text/plain": [
       "<Country: FRA-France>"
      ]
     },
     "execution_count": 7,
     "metadata": {},
     "output_type": "execute_result"
    }
   ],
   "source": [
    "Country.objects.create(name='Poland', iso_code='POL')\n",
    "Country.objects.create(name='Unated States', iso_code='USA')\n",
    "Country.objects.create(name='France', iso_code='FRA')"
   ]
  },
  {
   "cell_type": "code",
   "execution_count": 8,
   "id": "4038f895",
   "metadata": {},
   "outputs": [
    {
     "data": {
      "text/plain": [
       "<QuerySet [<Country: POL-Poland>, <Country: USA-Unated States>, <Country: FRA-France>]>"
      ]
     },
     "execution_count": 8,
     "metadata": {},
     "output_type": "execute_result"
    }
   ],
   "source": [
    "Country.objects.all()"
   ]
  },
  {
   "cell_type": "code",
   "execution_count": 9,
   "id": "3e7b8f67",
   "metadata": {},
   "outputs": [
    {
     "name": "stdout",
     "output_type": "stream",
     "text": [
      "The Shawshank Redemption has got 1 oscar(s).\n",
      "The Godfather has got 0 oscar(s).\n",
      "The Dark Knight has got 1 oscar(s).\n",
      "12 Angry Men has got 3 oscar(s).\n",
      "Pulp Fiction has got 0 oscar(s).\n",
      "Killer has got 1 oscar(s).\n",
      "Chlopaki nie placza has got 0 oscar(s).\n",
      "La soupe aux choux has got 0 oscar(s).\n"
     ]
    }
   ],
   "source": [
    "for m in Movie.objects.all():\n",
    "    print(f'{m.title} has got {m.oscars.count()} oscar(s).')\n"
   ]
  },
  {
   "cell_type": "code",
   "execution_count": 11,
   "id": "1f509cf1",
   "metadata": {
    "scrolled": true
   },
   "outputs": [
    {
     "name": "stdout",
     "output_type": "stream",
     "text": [
      "John Smith has got 2 oscar(s).\n"
     ]
    }
   ],
   "source": [
    "for a in Actor.objects.filter(gender='M'):\n",
    "    print(f'{a.name} {a.last_name} has got {a.oscars.count()} oscar(s).')"
   ]
  },
  {
   "cell_type": "code",
   "execution_count": 12,
   "id": "d743bb72",
   "metadata": {
    "scrolled": true
   },
   "outputs": [
    {
     "name": "stdout",
     "output_type": "stream",
     "text": [
      "Jane Smith has got 3 oscar(s).\n"
     ]
    }
   ],
   "source": [
    "for a in Actor.objects.filter(gender='F'):\n",
    "    print(f'{a.name} {a.last_name} has got {a.oscars.count()} oscar(s).')"
   ]
  },
  {
   "cell_type": "code",
   "execution_count": 46,
   "id": "199c4d0e",
   "metadata": {},
   "outputs": [
    {
     "name": "stdout",
     "output_type": "stream",
     "text": [
      "The Shawshank Redemption\n",
      "The Godfather\n",
      "The Dark Knight\n",
      "12 Angry Men\n",
      "Pulp Fiction\n"
     ]
    }
   ],
   "source": [
    "for m in Movie.objects.all():\n",
    "    if m.country.iso_code == 'USA':\n",
    "        print(m)"
   ]
  },
  {
   "cell_type": "code",
   "execution_count": 47,
   "id": "2ec0cdce",
   "metadata": {
    "scrolled": true
   },
   "outputs": [
    {
     "data": {
      "text/plain": [
       "<QuerySet [<Movie: The Shawshank Redemption>, <Movie: The Godfather>, <Movie: The Dark Knight>, <Movie: 12 Angry Men>, <Movie: Pulp Fiction>]>"
      ]
     },
     "execution_count": 47,
     "metadata": {},
     "output_type": "execute_result"
    }
   ],
   "source": [
    "Movie.objects.filter(country__iso_code='USA')"
   ]
  },
  {
   "cell_type": "code",
   "execution_count": 48,
   "id": "2cf8ae49",
   "metadata": {
    "scrolled": true
   },
   "outputs": [
    {
     "data": {
      "text/plain": [
       "<QuerySet [<Movie: Killer>, <Movie: Chlopaki nie placza>, <Movie: La soupe aux choux>]>"
      ]
     },
     "execution_count": 48,
     "metadata": {},
     "output_type": "execute_result"
    }
   ],
   "source": [
    "Movie.objects.exclude(country__iso_code='USA')"
   ]
  },
  {
   "cell_type": "code",
   "execution_count": 50,
   "id": "37247b42",
   "metadata": {},
   "outputs": [
    {
     "data": {
      "text/plain": [
       "<QuerySet [<Actor: 1. John Smith - 45yrs - M>, <Actor: 2. Jane Smith - 35yrs - F>]>"
      ]
     },
     "execution_count": 50,
     "metadata": {},
     "output_type": "execute_result"
    }
   ],
   "source": [
    "Actor.objects.filter(age__gt=30)"
   ]
  },
  {
   "cell_type": "code",
   "execution_count": 52,
   "id": "0669e153",
   "metadata": {},
   "outputs": [
    {
     "data": {
      "text/plain": [
       "<QuerySet [<Actor: 2. Jane Smith - 35yrs - F>, <Actor: 1. John Smith - 45yrs - M>]>"
      ]
     },
     "execution_count": 52,
     "metadata": {},
     "output_type": "execute_result"
    }
   ],
   "source": [
    "Actor.objects.all().order_by('age')"
   ]
  },
  {
   "cell_type": "code",
   "execution_count": 81,
   "id": "a6eb67be",
   "metadata": {},
   "outputs": [
    {
     "ename": "SyntaxError",
     "evalue": "invalid syntax (3788687741.py, line 2)",
     "output_type": "error",
     "traceback": [
      "\u001b[0;36m  File \u001b[0;32m\"/tmp/ipykernel_31412/3788687741.py\"\u001b[0;36m, line \u001b[0;32m2\u001b[0m\n\u001b[0;31m    m_all[0]__oscars\u001b[0m\n\u001b[0m            ^\u001b[0m\n\u001b[0;31mSyntaxError\u001b[0m\u001b[0;31m:\u001b[0m invalid syntax\n"
     ]
    }
   ],
   "source": [
    "m_all = Movie.objects.all()\n",
    "m_all[0]__oscars\n",
    "\n"
   ]
  }
 ],
 "metadata": {
  "kernelspec": {
   "display_name": "Django Shell-Plus",
   "language": "python",
   "name": "django_extensions"
  },
  "language_info": {
   "codemirror_mode": {
    "name": "ipython",
    "version": 3
   },
   "file_extension": ".py",
   "mimetype": "text/x-python",
   "name": "python",
   "nbconvert_exporter": "python",
   "pygments_lexer": "ipython3",
   "version": "3.8.10"
  }
 },
 "nbformat": 4,
 "nbformat_minor": 5
}

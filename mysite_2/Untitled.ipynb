{
 "cells": [
  {
   "cell_type": "code",
   "execution_count": 1,
   "id": "8f60b2ba",
   "metadata": {},
   "outputs": [],
   "source": [
    "import os\n",
    "os.environ[\"DJANGO_ALLOW_ASYNC_UNSAFE\"] = \"true\""
   ]
  },
  {
   "cell_type": "code",
   "execution_count": 2,
   "id": "22d25645",
   "metadata": {},
   "outputs": [],
   "source": [
    "from polls.models import Poll\n",
    "from polls.models import Question"
   ]
  },
  {
   "cell_type": "code",
   "execution_count": 8,
   "id": "553120c6",
   "metadata": {},
   "outputs": [
    {
     "data": {
      "text/plain": [
       "<Question: Question object (4)>"
      ]
     },
     "execution_count": 8,
     "metadata": {},
     "output_type": "execute_result"
    }
   ],
   "source": [
    "Question.objects.create(question_text='Jaki jest Twoj ulubiony kolor?')"
   ]
  },
  {
   "cell_type": "code",
   "execution_count": 40,
   "id": "015c2f4a",
   "metadata": {},
   "outputs": [
    {
     "data": {
      "text/plain": [
       "<QuerySet [<Question: Question object (1)>, <Question: Question object (2)>, <Question: Question object (3)>, <Question: Question object (4)>]>"
      ]
     },
     "execution_count": 40,
     "metadata": {},
     "output_type": "execute_result"
    }
   ],
   "source": [
    "Question.objects.all()"
   ]
  },
  {
   "cell_type": "code",
   "execution_count": 27,
   "id": "a8cb0509",
   "metadata": {},
   "outputs": [
    {
     "name": "stdout",
     "output_type": "stream",
     "text": [
      "Question object (2)\n",
      "Ile masz lat?\n",
      "2021-07-06 18:04:08\n"
     ]
    }
   ],
   "source": [
    "q = Question.objects.get(id=2)\n",
    "print(q)\n",
    "print(q.question_text)\n",
    "print(q.pub_date.strftime('%Y-%m-%d %H:%M:%S'))"
   ]
  },
  {
   "cell_type": "code",
   "execution_count": 50,
   "id": "3580853a",
   "metadata": {},
   "outputs": [
    {
     "name": "stderr",
     "output_type": "stream",
     "text": [
      "/home/p_piotr/.local/lib/python3.8/site-packages/django/db/models/fields/__init__.py:1416: RuntimeWarning: DateTimeField Question.pub_date received a naive datetime (2021-07-06 18:35:34.407360) while time zone support is active.\n",
      "  warnings.warn(\"DateTimeField %s received a naive datetime (%s)\"\n"
     ]
    }
   ],
   "source": [
    "q.question_text = 'Jak sie masz?'\n",
    "q.pub_date = datetime.datetime.now()\n",
    "q.save()"
   ]
  },
  {
   "cell_type": "code",
   "execution_count": 51,
   "id": "c154793b",
   "metadata": {},
   "outputs": [
    {
     "name": "stdout",
     "output_type": "stream",
     "text": [
      "Question object (2)\n",
      "Jak sie masz?\n",
      "2021-07-06 18:35:34\n"
     ]
    }
   ],
   "source": [
    "print(q)\n",
    "print(q.question_text)\n",
    "print(q.pub_date.strftime('%Y-%m-%d %H:%M:%S'))"
   ]
  },
  {
   "cell_type": "code",
   "execution_count": 38,
   "id": "71cc8816",
   "metadata": {
    "scrolled": true
   },
   "outputs": [
    {
     "name": "stdout",
     "output_type": "stream",
     "text": [
      "Id: 3  Date: 2021-07-06 18:04:20  Question: Gdzie mieszkasz?\n",
      "Id: 4  Date: 2021-07-06 18:04:41  Question: Jaki jest Twoj ulubiony kolor?\n"
     ]
    }
   ],
   "source": [
    "l = Question.objects.filter(id__gt=2)\n",
    "for el in l:\n",
    "    print(f'Id: {el.id}  Date: {el.pub_date.strftime(\"%Y-%m-%d %H:%M:%S\")}  Question: {el.question_text}')"
   ]
  }
 ],
 "metadata": {
  "kernelspec": {
   "display_name": "Django Shell-Plus",
   "language": "python",
   "name": "django_extensions"
  },
  "language_info": {
   "codemirror_mode": {
    "name": "ipython",
    "version": 3
   },
   "file_extension": ".py",
   "mimetype": "text/x-python",
   "name": "python",
   "nbconvert_exporter": "python",
   "pygments_lexer": "ipython3",
   "version": "3.8.10"
  }
 },
 "nbformat": 4,
 "nbformat_minor": 5
}

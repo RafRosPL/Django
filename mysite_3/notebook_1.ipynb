{
 "cells": [
  {
   "cell_type": "code",
   "execution_count": 1,
   "id": "7f319b11",
   "metadata": {},
   "outputs": [],
   "source": [
    "import os\n",
    "os.environ[\"DJANGO_ALLOW_ASYNC_UNSAFE\"]=\"true\""
   ]
  },
  {
   "cell_type": "code",
   "execution_count": 2,
   "id": "320e8c22",
   "metadata": {},
   "outputs": [],
   "source": [
    "from polls.models import Answer, Poll, Question"
   ]
  },
  {
   "cell_type": "code",
   "execution_count": 3,
   "id": "17ea15ee",
   "metadata": {
    "scrolled": true
   },
   "outputs": [
    {
     "data": {
      "text/plain": [
       "{'_state': <django.db.models.base.ModelState at 0x7f6cf8186ca0>,\n",
       " 'id': 1,\n",
       " 'question_text': 'Jak masz na imie?',\n",
       " 'pub_date': datetime.datetime(2021, 7, 6, 18, 3, 53, 904953, tzinfo=<UTC>),\n",
       " 'poll_id': 1}"
      ]
     },
     "execution_count": 3,
     "metadata": {},
     "output_type": "execute_result"
    }
   ],
   "source": [
    "q = Question.objects.get(id=1)\n",
    "vars(q)"
   ]
  },
  {
   "cell_type": "code",
   "execution_count": 4,
   "id": "7a6b3c78",
   "metadata": {},
   "outputs": [
    {
     "data": {
      "text/plain": [
       "{'_state': <django.db.models.base.ModelState at 0x7f6cf81a01c0>,\n",
       " 'id': 1,\n",
       " 'name': 'First Poll'}"
      ]
     },
     "execution_count": 4,
     "metadata": {},
     "output_type": "execute_result"
    }
   ],
   "source": [
    "p = Poll.objects.get(id=1)\n",
    "vars(p)"
   ]
  },
  {
   "cell_type": "code",
   "execution_count": 5,
   "id": "9333490e",
   "metadata": {},
   "outputs": [],
   "source": [
    "q.poll = p\n",
    "q.save()"
   ]
  },
  {
   "cell_type": "code",
   "execution_count": 6,
   "id": "b6a37dd2",
   "metadata": {
    "scrolled": false
   },
   "outputs": [
    {
     "data": {
      "text/plain": [
       "{'_state': <django.db.models.base.ModelState at 0x7f6cf8186ca0>,\n",
       " 'id': 1,\n",
       " 'question_text': 'Jak masz na imie?',\n",
       " 'pub_date': datetime.datetime(2021, 7, 6, 18, 3, 53, 904953, tzinfo=<UTC>),\n",
       " 'poll_id': 1}"
      ]
     },
     "execution_count": 6,
     "metadata": {},
     "output_type": "execute_result"
    }
   ],
   "source": [
    "vars(q)"
   ]
  },
  {
   "cell_type": "code",
   "execution_count": 7,
   "id": "c6382023",
   "metadata": {},
   "outputs": [],
   "source": [
    "q2 = Question.objects.get(id=2)\n",
    "q3 = Question.objects.get(id=3)\n",
    "q2.poll = p\n",
    "q3.poll = p\n",
    "q2.save()\n",
    "q3.save()"
   ]
  },
  {
   "cell_type": "code",
   "execution_count": 8,
   "id": "bb71758b",
   "metadata": {
    "scrolled": false
   },
   "outputs": [
    {
     "data": {
      "text/plain": [
       "{'_state': <django.db.models.base.ModelState at 0x7f6cf81a0e80>,\n",
       " 'id': 3,\n",
       " 'question_text': 'Gdzie mieszkasz?',\n",
       " 'pub_date': datetime.datetime(2021, 7, 6, 18, 4, 20, 452743, tzinfo=<UTC>),\n",
       " 'poll_id': 1}"
      ]
     },
     "execution_count": 8,
     "metadata": {},
     "output_type": "execute_result"
    }
   ],
   "source": [
    "vars(q3)"
   ]
  },
  {
   "cell_type": "code",
   "execution_count": 8,
   "id": "bd9d6dc0",
   "metadata": {},
   "outputs": [
    {
     "data": {
      "text/plain": [
       "<QuerySet [<Question: Question object (1)>, <Question: Question object (2)>, <Question: Question object (3)>]>"
      ]
     },
     "execution_count": 8,
     "metadata": {},
     "output_type": "execute_result"
    }
   ],
   "source": [
    "p.questions.all()\n"
   ]
  },
  {
   "cell_type": "code",
   "execution_count": 10,
   "id": "f2fa52c3",
   "metadata": {},
   "outputs": [
    {
     "data": {
      "text/plain": [
       "<QuerySet [<Question: Question object (1)>, <Question: Question object (2)>, <Question: Question object (3)>]>"
      ]
     },
     "execution_count": 10,
     "metadata": {},
     "output_type": "execute_result"
    }
   ],
   "source": [
    "Question.objects.filter(poll=1)"
   ]
  },
  {
   "cell_type": "code",
   "execution_count": 11,
   "id": "36d6c163",
   "metadata": {
    "scrolled": true
   },
   "outputs": [
    {
     "data": {
      "text/plain": [
       "<QuerySet [<Question: Question object (1)>, <Question: Question object (2)>, <Question: Question object (3)>]>"
      ]
     },
     "execution_count": 11,
     "metadata": {},
     "output_type": "execute_result"
    }
   ],
   "source": [
    "Question.objects.filter(poll__name='First Poll')"
   ]
  },
  {
   "cell_type": "code",
   "execution_count": 14,
   "id": "c9a5a133",
   "metadata": {},
   "outputs": [
    {
     "name": "stdout",
     "output_type": "stream",
     "text": [
      "{'sql': 'SELECT \"polls_question\".\"id\", \"polls_question\".\"question_text\", \"polls_question\".\"pub_date\", \"polls_question\".\"poll_id\" FROM \"polls_question\" INNER JOIN \"polls_poll\" ON (\"polls_question\".\"poll_id\" = \"polls_poll\".\"id\") WHERE \"polls_poll\".\"name\" = \\'First Poll\\' LIMIT 21', 'time': '0.002'}\n"
     ]
    }
   ],
   "source": [
    "from django.db import connection\n",
    "print(connection.queries[-1])"
   ]
  },
  {
   "cell_type": "code",
   "execution_count": 6,
   "id": "b2c50d11",
   "metadata": {},
   "outputs": [
    {
     "data": {
      "text/plain": [
       "<Answer: Answer object (5)>"
      ]
     },
     "execution_count": 6,
     "metadata": {},
     "output_type": "execute_result"
    }
   ],
   "source": [
    "Answer.objects.create(answer_text='Yes')\n",
    "Answer.objects.create(answer_text='No')\n",
    "Answer.objects.create(answer_text='I do not know...')\n",
    "Answer.objects.create(answer_text='Yellow')\n",
    "Answer.objects.create(answer_text='Peter')\n"
   ]
  },
  {
   "cell_type": "code",
   "execution_count": 9,
   "id": "2d6a8dbe",
   "metadata": {},
   "outputs": [
    {
     "data": {
      "text/plain": [
       "<QuerySet [<Answer: Answer object (1)>, <Answer: Answer object (2)>, <Answer: Answer object (3)>, <Answer: Answer object (4)>, <Answer: Answer object (5)>]>"
      ]
     },
     "execution_count": 9,
     "metadata": {},
     "output_type": "execute_result"
    }
   ],
   "source": [
    "Answer.objects.all()"
   ]
  },
  {
   "cell_type": "code",
   "execution_count": 11,
   "id": "b771798c",
   "metadata": {},
   "outputs": [],
   "source": [
    "a1 = Answer.objects.get(id=1)\n",
    "a2 = Answer.objects.get(id=2)\n",
    "a3 = Answer.objects.get(id=3)\n",
    "a4 = Answer.objects.get(id=4)\n",
    "a5 = Answer.objects.get(id=5)"
   ]
  },
  {
   "cell_type": "code",
   "execution_count": 13,
   "id": "0597d8b1",
   "metadata": {},
   "outputs": [],
   "source": [
    "a1.question = q\n",
    "a2.question = q\n",
    "a3.question = q\n",
    "a4.question = q2\n",
    "a5.question = q3\n",
    "a1.save()\n",
    "a2.save()\n",
    "a3.save()\n",
    "a4.save()\n",
    "a5.save()\n"
   ]
  },
  {
   "cell_type": "code",
   "execution_count": 14,
   "id": "e9b7c05d",
   "metadata": {},
   "outputs": [
    {
     "data": {
      "text/plain": [
       "{'_state': <django.db.models.base.ModelState at 0x7f6cf81bd160>,\n",
       " 'id': 1,\n",
       " 'answer_text': 'Yes',\n",
       " 'pub_date': datetime.datetime(2021, 7, 7, 16, 53, 50, 23131, tzinfo=<UTC>),\n",
       " 'question_id': 1}"
      ]
     },
     "execution_count": 14,
     "metadata": {},
     "output_type": "execute_result"
    }
   ],
   "source": [
    "vars(a1)"
   ]
  },
  {
   "cell_type": "code",
   "execution_count": 42,
   "id": "117448d0",
   "metadata": {},
   "outputs": [
    {
     "data": {
      "text/plain": [
       "<QuerySet [<Question: Question object (1)>, <Question: Question object (2)>, <Question: Question object (3)>, <Question: Question object (4)>]>"
      ]
     },
     "execution_count": 42,
     "metadata": {},
     "output_type": "execute_result"
    }
   ],
   "source": [
    "Question.objects.all()\n"
   ]
  },
  {
   "cell_type": "code",
   "execution_count": 48,
   "id": "8a1bb13a",
   "metadata": {},
   "outputs": [
    {
     "data": {
      "text/plain": [
       "<QuerySet []>"
      ]
     },
     "execution_count": 48,
     "metadata": {},
     "output_type": "execute_result"
    }
   ],
   "source": [
    "q4.answers.all()"
   ]
  },
  {
   "cell_type": "code",
   "execution_count": 56,
   "id": "30a9d2be",
   "metadata": {
    "scrolled": false
   },
   "outputs": [
    {
     "data": {
      "text/plain": [
       "<QuerySet [<Question: Question object (1)>, <Question: Question object (2)>, <Question: Question object (3)>]>"
      ]
     },
     "execution_count": 56,
     "metadata": {},
     "output_type": "execute_result"
    }
   ],
   "source": [
    "Question.objects.filter(answers__isnull = False).distinct()"
   ]
  },
  {
   "cell_type": "code",
   "execution_count": 57,
   "id": "8d529f6d",
   "metadata": {},
   "outputs": [
    {
     "data": {
      "text/plain": [
       "<QuerySet [<Question: Question object (1)>, <Question: Question object (2)>, <Question: Question object (3)>]>"
      ]
     },
     "execution_count": 57,
     "metadata": {},
     "output_type": "execute_result"
    }
   ],
   "source": [
    "Question.objects.exclude(answers__isnull = True)"
   ]
  },
  {
   "cell_type": "code",
   "execution_count": 50,
   "id": "7fc6d213",
   "metadata": {},
   "outputs": [
    {
     "data": {
      "text/plain": [
       "<Question: Question object (1)>"
      ]
     },
     "execution_count": 50,
     "metadata": {},
     "output_type": "execute_result"
    }
   ],
   "source": [
    "a1.question"
   ]
  },
  {
   "cell_type": "code",
   "execution_count": 59,
   "id": "6f1d3bda",
   "metadata": {},
   "outputs": [
    {
     "data": {
      "text/plain": [
       "<QuerySet [<Answer: Answer object (5)>, <Answer: Answer object (4)>, <Answer: Answer object (3)>]>"
      ]
     },
     "execution_count": 59,
     "metadata": {},
     "output_type": "execute_result"
    }
   ],
   "source": [
    "Answer.objects.filter(id__gt=2).order_by('-id')"
   ]
  },
  {
   "cell_type": "code",
   "execution_count": 61,
   "id": "9d749818",
   "metadata": {
    "scrolled": true
   },
   "outputs": [
    {
     "name": "stderr",
     "output_type": "stream",
     "text": [
      "/home/p_piotr/.local/lib/python3.8/site-packages/django/db/models/fields/__init__.py:1416: RuntimeWarning: DateTimeField Answer.pub_date received a naive datetime (2021-07-07 18:20:42.877982) while time zone support is active.\n",
      "  warnings.warn(\"DateTimeField %s received a naive datetime (%s)\"\n"
     ]
    },
    {
     "data": {
      "text/plain": [
       "5"
      ]
     },
     "execution_count": 61,
     "metadata": {},
     "output_type": "execute_result"
    }
   ],
   "source": [
    "import datetime\n",
    "Answer.objects.all().update(pub_date=datetime.datetime.now())"
   ]
  },
  {
   "cell_type": "code",
   "execution_count": 63,
   "id": "e41dc546",
   "metadata": {
    "scrolled": true
   },
   "outputs": [
    {
     "data": {
      "text/plain": [
       "(1, {'polls.Answer': 1})"
      ]
     },
     "execution_count": 63,
     "metadata": {},
     "output_type": "execute_result"
    }
   ],
   "source": [
    "a_last = Answer.objects.last()\n",
    "a_last.delete()"
   ]
  },
  {
   "cell_type": "code",
   "execution_count": 64,
   "id": "d28f3c59",
   "metadata": {},
   "outputs": [
    {
     "data": {
      "text/plain": [
       "{'_state': <django.db.models.base.ModelState at 0x7f6cf812c1c0>,\n",
       " 'id': 4,\n",
       " 'answer_text': 'Yellow',\n",
       " 'pub_date': datetime.datetime(2021, 7, 7, 16, 53, 50, 493038, tzinfo=<UTC>),\n",
       " 'question_id': 2}"
      ]
     },
     "execution_count": 64,
     "metadata": {},
     "output_type": "execute_result"
    }
   ],
   "source": [
    "vars(a4)"
   ]
  },
  {
   "cell_type": "code",
   "execution_count": 83,
   "id": "1d29e08f",
   "metadata": {
    "scrolled": true
   },
   "outputs": [
    {
     "name": "stderr",
     "output_type": "stream",
     "text": [
      "/home/p_piotr/.local/lib/python3.8/site-packages/django/db/models/fields/__init__.py:1416: RuntimeWarning: DateTimeField Answer.pub_date received a naive datetime (2021-07-07 18:56:21.987586) while time zone support is active.\n",
      "  warnings.warn(\"DateTimeField %s received a naive datetime (%s)\"\n"
     ]
    },
    {
     "data": {
      "text/plain": [
       "{'_state': <django.db.models.base.ModelState at 0x7f6cdf7eec10>,\n",
       " 'id': 4,\n",
       " 'answer_text': 'yellow',\n",
       " 'pub_date': datetime.datetime(2021, 7, 7, 18, 56, 21, 987586),\n",
       " 'question_id': 2}"
      ]
     },
     "execution_count": 83,
     "metadata": {},
     "output_type": "execute_result"
    }
   ],
   "source": [
    "a4 = Answer.objects.get(id=4)\n",
    "a4.answer_text='yellow'\n",
    "a4.pub_date=datetime.datetime.now()\n",
    "a4.save(update_fields=['answer_text', 'pub_date'])\n",
    "vars(a4)"
   ]
  },
  {
   "cell_type": "code",
   "execution_count": 80,
   "id": "50ce6a28",
   "metadata": {
    "scrolled": true
   },
   "outputs": [
    {
     "data": {
      "text/plain": [
       "{'_state': <django.db.models.base.ModelState at 0x7f6cf81bd160>,\n",
       " 'id': 1,\n",
       " 'answer_text': 'Yes',\n",
       " 'pub_date': datetime.datetime(2021, 7, 7, 16, 53, 50, 23131, tzinfo=<UTC>),\n",
       " 'question_id': 1}"
      ]
     },
     "execution_count": 80,
     "metadata": {},
     "output_type": "execute_result"
    }
   ],
   "source": [
    "vars(a1)\n",
    "\n"
   ]
  },
  {
   "cell_type": "code",
   "execution_count": 5,
   "id": "c8f1a335",
   "metadata": {},
   "outputs": [
    {
     "data": {
      "text/plain": [
       "{'_state': <django.db.models.base.ModelState at 0x7f39f8aa5670>,\n",
       " 'id': 7,\n",
       " 'answer_text': 'Czerwony',\n",
       " 'pub_date': datetime.datetime(2021, 7, 13, 16, 26, 18, 711421, tzinfo=<UTC>),\n",
       " 'question_id': 4}"
      ]
     },
     "execution_count": 5,
     "metadata": {},
     "output_type": "execute_result"
    }
   ],
   "source": [
    "vars(Answer.objects.last())"
   ]
  },
  {
   "cell_type": "code",
   "execution_count": null,
   "id": "a7dfa2f3",
   "metadata": {},
   "outputs": [],
   "source": []
  }
 ],
 "metadata": {
  "kernelspec": {
   "display_name": "Django Shell-Plus",
   "language": "python",
   "name": "django_extensions"
  },
  "language_info": {
   "codemirror_mode": {
    "name": "ipython",
    "version": 3
   },
   "file_extension": ".py",
   "mimetype": "text/x-python",
   "name": "python",
   "nbconvert_exporter": "python",
   "pygments_lexer": "ipython3",
   "version": "3.8.10"
  }
 },
 "nbformat": 4,
 "nbformat_minor": 5
}

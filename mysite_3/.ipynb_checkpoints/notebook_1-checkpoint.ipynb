{
 "cells": [
  {
   "cell_type": "code",
   "execution_count": 1,
   "id": "75218bd9",
   "metadata": {},
   "outputs": [],
   "source": [
    "import os\n",
    "os.environ[\"DJANGO_ALLOW_ASYNC_UNSAFE\"]=\"true\""
   ]
  },
  {
   "cell_type": "code",
   "execution_count": 2,
   "id": "d173300b",
   "metadata": {},
   "outputs": [],
   "source": [
    "from polls.models import Answer, Poll, Question"
   ]
  },
  {
   "cell_type": "code",
   "execution_count": 3,
   "id": "57d79b9e",
   "metadata": {
    "scrolled": true
   },
   "outputs": [
    {
     "data": {
      "text/plain": [
       "{'_state': <django.db.models.base.ModelState at 0x7f6cf8186ca0>,\n",
       " 'id': 1,\n",
       " 'question_text': 'Jak masz na imie?',\n",
       " 'pub_date': datetime.datetime(2021, 7, 6, 18, 3, 53, 904953, tzinfo=<UTC>),\n",
       " 'poll_id': 1}"
      ]
     },
     "execution_count": 3,
     "metadata": {},
     "output_type": "execute_result"
    }
   ],
   "source": [
    "q = Question.objects.get(id=1)\n",
    "vars(q)"
   ]
  },
  {
   "cell_type": "code",
   "execution_count": 4,
   "id": "271d5f58",
   "metadata": {},
   "outputs": [
    {
     "data": {
      "text/plain": [
       "{'_state': <django.db.models.base.ModelState at 0x7f6cf81a01c0>,\n",
       " 'id': 1,\n",
       " 'name': 'First Poll'}"
      ]
     },
     "execution_count": 4,
     "metadata": {},
     "output_type": "execute_result"
    }
   ],
   "source": [
    "p = Poll.objects.get(id=1)\n",
    "vars(p)"
   ]
  },
  {
   "cell_type": "code",
   "execution_count": 5,
   "id": "111392be",
   "metadata": {},
   "outputs": [],
   "source": [
    "q.poll = p\n",
    "q.save()"
   ]
  },
  {
   "cell_type": "code",
   "execution_count": 6,
   "id": "b8c4f013",
   "metadata": {
    "scrolled": false
   },
   "outputs": [
    {
     "data": {
      "text/plain": [
       "{'_state': <django.db.models.base.ModelState at 0x7f6cf8186ca0>,\n",
       " 'id': 1,\n",
       " 'question_text': 'Jak masz na imie?',\n",
       " 'pub_date': datetime.datetime(2021, 7, 6, 18, 3, 53, 904953, tzinfo=<UTC>),\n",
       " 'poll_id': 1}"
      ]
     },
     "execution_count": 6,
     "metadata": {},
     "output_type": "execute_result"
    }
   ],
   "source": [
    "vars(q)"
   ]
  },
  {
   "cell_type": "code",
   "execution_count": 7,
   "id": "bcea7b71",
   "metadata": {},
   "outputs": [],
   "source": [
    "q2 = Question.objects.get(id=2)\n",
    "q3 = Question.objects.get(id=3)\n",
    "q2.poll = p\n",
    "q3.poll = p\n",
    "q2.save()\n",
    "q3.save()"
   ]
  },
  {
   "cell_type": "code",
   "execution_count": 8,
   "id": "d0b39260",
   "metadata": {
    "scrolled": false
   },
   "outputs": [
    {
     "data": {
      "text/plain": [
       "{'_state': <django.db.models.base.ModelState at 0x7f6cf81a0e80>,\n",
       " 'id': 3,\n",
       " 'question_text': 'Gdzie mieszkasz?',\n",
       " 'pub_date': datetime.datetime(2021, 7, 6, 18, 4, 20, 452743, tzinfo=<UTC>),\n",
       " 'poll_id': 1}"
      ]
     },
     "execution_count": 8,
     "metadata": {},
     "output_type": "execute_result"
    }
   ],
   "source": [
    "vars(q3)"
   ]
  },
  {
   "cell_type": "code",
   "execution_count": 8,
   "id": "453614b3",
   "metadata": {},
   "outputs": [
    {
     "data": {
      "text/plain": [
       "<QuerySet [<Question: Question object (1)>, <Question: Question object (2)>, <Question: Question object (3)>]>"
      ]
     },
     "execution_count": 8,
     "metadata": {},
     "output_type": "execute_result"
    }
   ],
   "source": [
    "p.questions.all()\n"
   ]
  },
  {
   "cell_type": "code",
   "execution_count": 10,
   "id": "c77d26a4",
   "metadata": {},
   "outputs": [
    {
     "data": {
      "text/plain": [
       "<QuerySet [<Question: Question object (1)>, <Question: Question object (2)>, <Question: Question object (3)>]>"
      ]
     },
     "execution_count": 10,
     "metadata": {},
     "output_type": "execute_result"
    }
   ],
   "source": [
    "Question.objects.filter(poll=1)"
   ]
  },
  {
   "cell_type": "code",
   "execution_count": 11,
   "id": "02639793",
   "metadata": {
    "scrolled": true
   },
   "outputs": [
    {
     "data": {
      "text/plain": [
       "<QuerySet [<Question: Question object (1)>, <Question: Question object (2)>, <Question: Question object (3)>]>"
      ]
     },
     "execution_count": 11,
     "metadata": {},
     "output_type": "execute_result"
    }
   ],
   "source": [
    "Question.objects.filter(poll__name='First Poll')"
   ]
  },
  {
   "cell_type": "code",
   "execution_count": 14,
   "id": "7336a24c",
   "metadata": {},
   "outputs": [
    {
     "name": "stdout",
     "output_type": "stream",
     "text": [
      "{'sql': 'SELECT \"polls_question\".\"id\", \"polls_question\".\"question_text\", \"polls_question\".\"pub_date\", \"polls_question\".\"poll_id\" FROM \"polls_question\" INNER JOIN \"polls_poll\" ON (\"polls_question\".\"poll_id\" = \"polls_poll\".\"id\") WHERE \"polls_poll\".\"name\" = \\'First Poll\\' LIMIT 21', 'time': '0.002'}\n"
     ]
    }
   ],
   "source": [
    "from django.db import connection\n",
    "print(connection.queries[-1])"
   ]
  },
  {
   "cell_type": "code",
   "execution_count": 6,
   "id": "2d96530c",
   "metadata": {},
   "outputs": [
    {
     "data": {
      "text/plain": [
       "<Answer: Answer object (5)>"
      ]
     },
     "execution_count": 6,
     "metadata": {},
     "output_type": "execute_result"
    }
   ],
   "source": [
    "Answer.objects.create(answer_text='Yes')\n",
    "Answer.objects.create(answer_text='No')\n",
    "Answer.objects.create(answer_text='I do not know...')\n",
    "Answer.objects.create(answer_text='Yellow')\n",
    "Answer.objects.create(answer_text='Peter')\n"
   ]
  },
  {
   "cell_type": "code",
   "execution_count": 9,
   "id": "5ba26c22",
   "metadata": {},
   "outputs": [
    {
     "data": {
      "text/plain": [
       "<QuerySet [<Answer: Answer object (1)>, <Answer: Answer object (2)>, <Answer: Answer object (3)>, <Answer: Answer object (4)>, <Answer: Answer object (5)>]>"
      ]
     },
     "execution_count": 9,
     "metadata": {},
     "output_type": "execute_result"
    }
   ],
   "source": [
    "Answer.objects.all()"
   ]
  },
  {
   "cell_type": "code",
   "execution_count": 11,
   "id": "5df9b8da",
   "metadata": {},
   "outputs": [],
   "source": [
    "a1 = Answer.objects.get(id=1)\n",
    "a2 = Answer.objects.get(id=2)\n",
    "a3 = Answer.objects.get(id=3)\n",
    "a4 = Answer.objects.get(id=4)\n",
    "a5 = Answer.objects.get(id=5)"
   ]
  },
  {
   "cell_type": "code",
   "execution_count": 13,
   "id": "d11665eb",
   "metadata": {},
   "outputs": [],
   "source": [
    "a1.question = q\n",
    "a2.question = q\n",
    "a3.question = q\n",
    "a4.question = q2\n",
    "a5.question = q3\n",
    "a1.save()\n",
    "a2.save()\n",
    "a3.save()\n",
    "a4.save()\n",
    "a5.save()\n"
   ]
  },
  {
   "cell_type": "code",
   "execution_count": 14,
   "id": "e0a056b5",
   "metadata": {},
   "outputs": [
    {
     "data": {
      "text/plain": [
       "{'_state': <django.db.models.base.ModelState at 0x7f6cf81bd160>,\n",
       " 'id': 1,\n",
       " 'answer_text': 'Yes',\n",
       " 'pub_date': datetime.datetime(2021, 7, 7, 16, 53, 50, 23131, tzinfo=<UTC>),\n",
       " 'question_id': 1}"
      ]
     },
     "execution_count": 14,
     "metadata": {},
     "output_type": "execute_result"
    }
   ],
   "source": [
    "vars(a1)"
   ]
  },
  {
   "cell_type": "code",
   "execution_count": 42,
   "id": "1563061a",
   "metadata": {},
   "outputs": [
    {
     "data": {
      "text/plain": [
       "<QuerySet [<Question: Question object (1)>, <Question: Question object (2)>, <Question: Question object (3)>, <Question: Question object (4)>]>"
      ]
     },
     "execution_count": 42,
     "metadata": {},
     "output_type": "execute_result"
    }
   ],
   "source": [
    "Question.objects.all()\n"
   ]
  },
  {
   "cell_type": "code",
   "execution_count": 48,
   "id": "564e3202",
   "metadata": {},
   "outputs": [
    {
     "data": {
      "text/plain": [
       "<QuerySet []>"
      ]
     },
     "execution_count": 48,
     "metadata": {},
     "output_type": "execute_result"
    }
   ],
   "source": [
    "q4.answers.all()"
   ]
  },
  {
   "cell_type": "code",
   "execution_count": 56,
   "id": "6c583eb9",
   "metadata": {
    "scrolled": false
   },
   "outputs": [
    {
     "data": {
      "text/plain": [
       "<QuerySet [<Question: Question object (1)>, <Question: Question object (2)>, <Question: Question object (3)>]>"
      ]
     },
     "execution_count": 56,
     "metadata": {},
     "output_type": "execute_result"
    }
   ],
   "source": [
    "Question.objects.filter(answers__isnull = False).distinct()"
   ]
  },
  {
   "cell_type": "code",
   "execution_count": 57,
   "id": "b183f4c6",
   "metadata": {},
   "outputs": [
    {
     "data": {
      "text/plain": [
       "<QuerySet [<Question: Question object (1)>, <Question: Question object (2)>, <Question: Question object (3)>]>"
      ]
     },
     "execution_count": 57,
     "metadata": {},
     "output_type": "execute_result"
    }
   ],
   "source": [
    "Question.objects.exclude(answers__isnull = True)"
   ]
  },
  {
   "cell_type": "code",
   "execution_count": 50,
   "id": "b86a557a",
   "metadata": {},
   "outputs": [
    {
     "data": {
      "text/plain": [
       "<Question: Question object (1)>"
      ]
     },
     "execution_count": 50,
     "metadata": {},
     "output_type": "execute_result"
    }
   ],
   "source": [
    "a1.question"
   ]
  },
  {
   "cell_type": "code",
   "execution_count": 59,
   "id": "462c88b6",
   "metadata": {},
   "outputs": [
    {
     "data": {
      "text/plain": [
       "<QuerySet [<Answer: Answer object (5)>, <Answer: Answer object (4)>, <Answer: Answer object (3)>]>"
      ]
     },
     "execution_count": 59,
     "metadata": {},
     "output_type": "execute_result"
    }
   ],
   "source": [
    "Answer.objects.filter(id__gt=2).order_by('-id')"
   ]
  },
  {
   "cell_type": "code",
   "execution_count": 61,
   "id": "f1402e07",
   "metadata": {
    "scrolled": true
   },
   "outputs": [
    {
     "name": "stderr",
     "output_type": "stream",
     "text": [
      "/home/p_piotr/.local/lib/python3.8/site-packages/django/db/models/fields/__init__.py:1416: RuntimeWarning: DateTimeField Answer.pub_date received a naive datetime (2021-07-07 18:20:42.877982) while time zone support is active.\n",
      "  warnings.warn(\"DateTimeField %s received a naive datetime (%s)\"\n"
     ]
    },
    {
     "data": {
      "text/plain": [
       "5"
      ]
     },
     "execution_count": 61,
     "metadata": {},
     "output_type": "execute_result"
    }
   ],
   "source": [
    "import datetime\n",
    "Answer.objects.all().update(pub_date=datetime.datetime.now())"
   ]
  },
  {
   "cell_type": "code",
   "execution_count": 63,
   "id": "674e76f0",
   "metadata": {
    "scrolled": true
   },
   "outputs": [
    {
     "data": {
      "text/plain": [
       "(1, {'polls.Answer': 1})"
      ]
     },
     "execution_count": 63,
     "metadata": {},
     "output_type": "execute_result"
    }
   ],
   "source": [
    "a_last = Answer.objects.last()\n",
    "a_last.delete()"
   ]
  },
  {
   "cell_type": "code",
   "execution_count": 64,
   "id": "8e98edc0",
   "metadata": {},
   "outputs": [
    {
     "data": {
      "text/plain": [
       "{'_state': <django.db.models.base.ModelState at 0x7f6cf812c1c0>,\n",
       " 'id': 4,\n",
       " 'answer_text': 'Yellow',\n",
       " 'pub_date': datetime.datetime(2021, 7, 7, 16, 53, 50, 493038, tzinfo=<UTC>),\n",
       " 'question_id': 2}"
      ]
     },
     "execution_count": 64,
     "metadata": {},
     "output_type": "execute_result"
    }
   ],
   "source": [
    "vars(a4)"
   ]
  },
  {
   "cell_type": "code",
   "execution_count": 83,
   "id": "667e6500",
   "metadata": {
    "scrolled": true
   },
   "outputs": [
    {
     "name": "stderr",
     "output_type": "stream",
     "text": [
      "/home/p_piotr/.local/lib/python3.8/site-packages/django/db/models/fields/__init__.py:1416: RuntimeWarning: DateTimeField Answer.pub_date received a naive datetime (2021-07-07 18:56:21.987586) while time zone support is active.\n",
      "  warnings.warn(\"DateTimeField %s received a naive datetime (%s)\"\n"
     ]
    },
    {
     "data": {
      "text/plain": [
       "{'_state': <django.db.models.base.ModelState at 0x7f6cdf7eec10>,\n",
       " 'id': 4,\n",
       " 'answer_text': 'yellow',\n",
       " 'pub_date': datetime.datetime(2021, 7, 7, 18, 56, 21, 987586),\n",
       " 'question_id': 2}"
      ]
     },
     "execution_count": 83,
     "metadata": {},
     "output_type": "execute_result"
    }
   ],
   "source": [
    "a4 = Answer.objects.get(id=4)\n",
    "a4.answer_text='yellow'\n",
    "a4.pub_date=datetime.datetime.now()\n",
    "a4.save(update_fields=['answer_text', 'pub_date'])\n",
    "vars(a4)"
   ]
  },
  {
   "cell_type": "code",
   "execution_count": 80,
   "id": "f9358dcb",
   "metadata": {},
   "outputs": [
    {
     "data": {
      "text/plain": [
       "{'_state': <django.db.models.base.ModelState at 0x7f6cf81bd160>,\n",
       " 'id': 1,\n",
       " 'answer_text': 'Yes',\n",
       " 'pub_date': datetime.datetime(2021, 7, 7, 16, 53, 50, 23131, tzinfo=<UTC>),\n",
       " 'question_id': 1}"
      ]
     },
     "execution_count": 80,
     "metadata": {},
     "output_type": "execute_result"
    }
   ],
   "source": [
    "vars(a1)\n",
    "\n"
   ]
  }
 ],
 "metadata": {
  "kernelspec": {
   "display_name": "Django Shell-Plus",
   "language": "python",
   "name": "django_extensions"
  },
  "language_info": {
   "codemirror_mode": {
    "name": "ipython",
    "version": 3
   },
   "file_extension": ".py",
   "mimetype": "text/x-python",
   "name": "python",
   "nbconvert_exporter": "python",
   "pygments_lexer": "ipython3",
   "version": "3.8.10"
  }
 },
 "nbformat": 4,
 "nbformat_minor": 5
}

{
 "cells": [
  {
   "cell_type": "code",
   "execution_count": 1,
   "id": "c32d222f",
   "metadata": {},
   "outputs": [],
   "source": [
    "import os\n",
    "os.environ[\"DJANGO_ALLOW_ASYNC_UNSAFE\"] = \"true\""
   ]
  },
  {
   "cell_type": "code",
   "execution_count": 2,
   "id": "161ac8f7",
   "metadata": {},
   "outputs": [],
   "source": [
    "from polls.models import Poll\n",
    "from polls.models import Question"
   ]
  },
  {
   "cell_type": "code",
   "execution_count": 8,
   "id": "ddba1bd4",
   "metadata": {},
   "outputs": [
    {
     "data": {
      "text/plain": [
       "<Question: Question object (4)>"
      ]
     },
     "execution_count": 8,
     "metadata": {},
     "output_type": "execute_result"
    }
   ],
   "source": [
    "Question.objects.create(question_text='Jaki jest Twoj ulubiony kolor?')"
   ]
  },
  {
   "cell_type": "code",
   "execution_count": null,
   "id": "998bd4b8",
   "metadata": {},
   "outputs": [],
   "source": []
  },
  {
   "cell_type": "code",
   "execution_count": 27,
   "id": "b9127075",
   "metadata": {},
   "outputs": [
    {
     "name": "stdout",
     "output_type": "stream",
     "text": [
      "Question object (2)\n",
      "Ile masz lat?\n",
      "2021-07-06 18:04:08\n"
     ]
    }
   ],
   "source": [
    "q = Question.objects.get(id=2)\n",
    "print(q)\n",
    "print(q.question_text)\n",
    "print(q.pub_date.strftime('%Y-%m-%d %H:%M:%S'))"
   ]
  },
  {
   "cell_type": "code",
   "execution_count": 30,
   "id": "4b5738ac",
   "metadata": {},
   "outputs": [],
   "source": [
    "q.question_text = 'Jak sie masz?'\n",
    "q.save()"
   ]
  },
  {
   "cell_type": "code",
   "execution_count": 31,
   "id": "33177259",
   "metadata": {},
   "outputs": [
    {
     "name": "stdout",
     "output_type": "stream",
     "text": [
      "Question object (2)\n",
      "Jak sie masz?\n",
      "2021-07-06 18:04:08\n"
     ]
    }
   ],
   "source": [
    "print(q)\n",
    "print(q.question_text)\n",
    "print(q.pub_date.strftime('%Y-%m-%d %H:%M:%S'))"
   ]
  },
  {
   "cell_type": "code",
   "execution_count": 38,
   "id": "3d5e3f6f",
   "metadata": {},
   "outputs": [
    {
     "name": "stdout",
     "output_type": "stream",
     "text": [
      "Id: 3  Date: 2021-07-06 18:04:20  Question: Gdzie mieszkasz?\n",
      "Id: 4  Date: 2021-07-06 18:04:41  Question: Jaki jest Twoj ulubiony kolor?\n"
     ]
    }
   ],
   "source": [
    "l = Question.objects.filter(id__gt=2)\n",
    "for el in l:\n",
    "    print(f'Id: {el.id}  Date: {el.pub_date.strftime(\"%Y-%m-%d %H:%M:%S\")}  Question: {el.question_text}')"
   ]
  }
 ],
 "metadata": {
  "kernelspec": {
   "display_name": "Django Shell-Plus",
   "language": "python",
   "name": "django_extensions"
  },
  "language_info": {
   "codemirror_mode": {
    "name": "ipython",
    "version": 3
   },
   "file_extension": ".py",
   "mimetype": "text/x-python",
   "name": "python",
   "nbconvert_exporter": "python",
   "pygments_lexer": "ipython3",
   "version": "3.8.10"
  }
 },
 "nbformat": 4,
 "nbformat_minor": 5
}

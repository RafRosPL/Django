{
 "cells": [
  {
   "cell_type": "code",
   "execution_count": 1,
   "id": "a5412888",
   "metadata": {},
   "outputs": [],
   "source": [
    "import os\n",
    "os.environ[\"DJANGO_ALLOW_ASYNC_UNSAFE\"]=\"true\""
   ]
  },
  {
   "cell_type": "code",
   "execution_count": 2,
   "id": "5a46c710",
   "metadata": {},
   "outputs": [],
   "source": [
    "from movies.models import Actor"
   ]
  },
  {
   "cell_type": "code",
   "execution_count": 4,
   "id": "75d9ba13",
   "metadata": {
    "scrolled": true
   },
   "outputs": [
    {
     "data": {
      "text/plain": [
       "<Actor: Actor object (1)>"
      ]
     },
     "execution_count": 4,
     "metadata": {},
     "output_type": "execute_result"
    }
   ],
   "source": [
    "Actor.objects.create(name='John', last_name='Smith', age=45, gender='M')"
   ]
  },
  {
   "cell_type": "code",
   "execution_count": 7,
   "id": "d878485a",
   "metadata": {
    "scrolled": true
   },
   "outputs": [
    {
     "data": {
      "text/plain": [
       "{'_state': <django.db.models.base.ModelState at 0x7f2180c58880>,\n",
       " 'id': 1,\n",
       " 'name': 'John',\n",
       " 'last_name': 'Smith',\n",
       " 'age': 45,\n",
       " 'gender': 'M'}"
      ]
     },
     "execution_count": 7,
     "metadata": {},
     "output_type": "execute_result"
    }
   ],
   "source": [
    "vars(Actor.objects.all()[0])\n"
   ]
  },
  {
   "cell_type": "code",
   "execution_count": 8,
   "id": "c5087e8c",
   "metadata": {},
   "outputs": [
    {
     "data": {
      "text/plain": [
       "<Actor: Actor object (2)>"
      ]
     },
     "execution_count": 8,
     "metadata": {},
     "output_type": "execute_result"
    }
   ],
   "source": [
    "Actor.objects.create(name='Jane', last_name='Smith', age=45, gender='F')"
   ]
  },
  {
   "cell_type": "code",
   "execution_count": 28,
   "id": "1b5d9d65",
   "metadata": {},
   "outputs": [
    {
     "name": "stdout",
     "output_type": "stream",
     "text": [
      "Actor object (2)\n"
     ]
    }
   ],
   "source": [
    "a = Actor.objects.get(id=2)\n",
    "print(a)"
   ]
  }
 ],
 "metadata": {
  "kernelspec": {
   "display_name": "Django Shell-Plus",
   "language": "python",
   "name": "django_extensions"
  },
  "language_info": {
   "codemirror_mode": {
    "name": "ipython",
    "version": 3
   },
   "file_extension": ".py",
   "mimetype": "text/x-python",
   "name": "python",
   "nbconvert_exporter": "python",
   "pygments_lexer": "ipython3",
   "version": "3.8.10"
  }
 },
 "nbformat": 4,
 "nbformat_minor": 5
}
